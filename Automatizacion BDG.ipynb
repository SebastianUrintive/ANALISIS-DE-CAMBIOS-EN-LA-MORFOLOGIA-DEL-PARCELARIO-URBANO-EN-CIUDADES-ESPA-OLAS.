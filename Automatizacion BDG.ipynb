{
 "cells": [
  {
   "cell_type": "code",
   "execution_count": 83,
   "metadata": {},
   "outputs": [],
   "source": [
    "import os\n",
    "import geopandas as gpd\n",
    "from sqlalchemy import create_engine\n",
    "import psycopg2\n",
    "from psycopg2.extensions import ISOLATION_LEVEL_AUTOCOMMIT\n",
    "import pickle"
   ]
  },
  {
   "cell_type": "code",
   "execution_count": 84,
   "metadata": {},
   "outputs": [],
   "source": [
    "def inspect_directory_structure(base_path):\n",
    "    \"\"\"Inspeccionar y listar la estructura de directorios.\"\"\"\n",
    "    directory_structure = []\n",
    "    for year_folder in os.listdir(base_path):\n",
    "        year_path = os.path.join(base_path, year_folder)\n",
    "        if os.path.isdir(year_path):\n",
    "            for province_folder in os.listdir(year_path):\n",
    "                province_path = os.path.join(year_path, province_folder)\n",
    "                if os.path.isdir(province_path):\n",
    "                    for city_folder in os.listdir(province_path):\n",
    "                        city_path = os.path.join(province_path, city_folder)\n",
    "                        if os.path.isdir(city_path):\n",
    "                            directory_structure.append((year_folder, province_folder, city_folder))\n",
    "    return directory_structure"
   ]
  },
  {
   "cell_type": "code",
   "execution_count": 85,
   "metadata": {},
   "outputs": [],
   "source": [
    "def create_database_and_extension(dbname, user, password, host, port):\n",
    "    \"\"\"Crear una base de datos y la extensión PostGIS.\"\"\"\n",
    "    # Conectar a la base de datos 'postgres' para crear la nueva base de datos\n",
    "    con = psycopg2.connect(dbname='postgres', user=user, password=password, host=host, port=port)\n",
    "    con.set_isolation_level(ISOLATION_LEVEL_AUTOCOMMIT)  # Establecer el nivel de aislamiento a AUTOCOMMIT\n",
    "    with con.cursor() as cur:\n",
    "        try:\n",
    "            cur.execute(f\"CREATE DATABASE {dbname};\")\n",
    "            print(f\"Base de datos '{dbname}' creada exitosamente.\")\n",
    "        except psycopg2.errors.DuplicateDatabase:\n",
    "            print(f\"La base de datos '{dbname}' ya existe.\")\n",
    "    con.close()  # Cerrar la conexión\n",
    "\n",
    "    # Conectar a la nueva base de datos para crear la extensión PostGIS\n",
    "    con = psycopg2.connect(dbname=dbname, user=user, password=password, host=host, port=port)\n",
    "    con.set_isolation_level(ISOLATION_LEVEL_AUTOCOMMIT)\n",
    "    with con.cursor() as cur:\n",
    "        cur.execute(\"CREATE EXTENSION IF NOT EXISTS postgis;\")\n",
    "    con.close()"
   ]
  },
  {
   "cell_type": "code",
   "execution_count": 86,
   "metadata": {},
   "outputs": [],
   "source": [
    "def read_shapefile_with_encodings(filepath, encodings=('utf-8', 'ISO-8859-1')):\n",
    "    \"\"\"Intentar leer un shapefile con diferentes codificaciones.\"\"\"\n",
    "    for encoding in encodings:\n",
    "        try:\n",
    "            return gpd.read_file(filepath, encoding=encoding)\n",
    "        except UnicodeDecodeError:\n",
    "            continue\n",
    "    raise ValueError(f\"No se pudo leer el archivo {filepath} con las codificaciones proporcionadas.\")"
   ]
  },
  {
   "cell_type": "code",
   "execution_count": 87,
   "metadata": {},
   "outputs": [],
   "source": [
    "def save_progress(progress, filename='progress.pkl'):\n",
    "    \"\"\"Guardar el progreso en un archivo.\"\"\"\n",
    "    with open(filename, 'wb') as f:\n",
    "        pickle.dump(progress, f)"
   ]
  },
  {
   "cell_type": "code",
   "execution_count": 88,
   "metadata": {},
   "outputs": [],
   "source": [
    "def load_progress(filename='progress.pkl'):\n",
    "    \"\"\"Cargar el progreso desde un archivo.\"\"\"\n",
    "    if os.path.exists(filename) and os.path.getsize(filename) > 0:\n",
    "        with open(filename, 'rb') as f:\n",
    "            try:\n",
    "                return pickle.load(f)\n",
    "            except EOFError:\n",
    "                print(f\"El archivo {filename} está vacío o corrupto. Reiniciando progreso.\")\n",
    "                return None\n",
    "    return None"
   ]
  },
  {
   "cell_type": "code",
   "execution_count": null,
   "metadata": {},
   "outputs": [],
   "source": [
    "def main():\n",
    "    # Solicita al usuario los datos mediante input\n",
    "    base_path = input(\"Ingrese la ruta base (por ejemplo, C:\\\\Users\\\\jurintivet\\\\Downloads\\\\Parcelas): \")\n",
    "    user = input(\"Ingrese el nombre de usuario de la base de datos (por defecto 'postgres'): \")\n",
    "    password = input(\"Ingrese la contraseña de la base de datos: \")\n",
    "    host = input(\"Ingrese el host (por defecto 'localhost'): \")\n",
    "    port = input(\"Ingrese el puerto (por defecto '5432'): \")\n",
    "\n",
    "    progress = load_progress()\n",
    "\n",
    "    # Imprime los valores ingresados para verificar\n",
    "    print(f\"Ruta base: {base_path}\")\n",
    "    print(f\"Usuario: {user}\")\n",
    "    print(f\"Contraseña: {password}\")\n",
    "    print(f\"Host: {host}\")\n",
    "    print(f\"Puerto: {port}\")\n",
    "\n",
    "    progress = load_progress()\n",
    "\n",
    "    # Inspeccionar la estructura de directorios\n",
    "    directory_structure = inspect_directory_structure(base_path)\n",
    "    print(\"Estructura de directorios encontrada:\")\n",
    "    for year, province, city in directory_structure:\n",
    "        print(f\"Año: {year}, Provincia: {province}, Ciudad: {city}\")\n",
    "\n",
    "    # Proceder con la creación de bases de datos y carga de shapefiles\n",
    "    for year, province, city in directory_structure:\n",
    "        progress_key = (year, province, city)\n",
    "        if progress_key in progress[\"completed\"]:\n",
    "            continue\n",
    "\n",
    "        province_path = os.path.join(base_path, year, province)\n",
    "        city_path = os.path.join(province_path, city)\n",
    "\n",
    "        # Usar el nombre de la provincia y año como nombre de la base de datos, reemplazando espacios por guiones bajos\n",
    "        dbname = f\"{province.lower().replace(' ', '_')}_{year}\"\n",
    "        create_database_and_extension(dbname, user, password, host, port)\n",
    "\n",
    "        # Crear conexión a la base de datos de la provincia\n",
    "        engine = create_engine(f'postgresql://{user}:{password}@{host}:{port}/{dbname}')\n",
    "        \n",
    "        # Buscar shapefiles en la carpeta de la ciudad\n",
    "        for file in os.listdir(city_path):\n",
    "            if file.endswith('.shp'):\n",
    "                shapefile_path = os.path.join(city_path, file)\n",
    "                table_name = f\"{city.lower().replace(' ', '_')}_basic\"\n",
    "                try:\n",
    "                    gdf = read_shapefile_with_encodings(shapefile_path)\n",
    "                    gdf.to_postgis(table_name, engine, if_exists='replace')\n",
    "                    print(f\"Shapefile '{file}' cargado en la tabla '{table_name}' de la base de datos '{dbname}'.\")\n",
    "                except Exception as e:\n",
    "                    print(f\"No se pudo cargar el archivo {shapefile_path}. Error: {e}\")\n",
    "\n",
    "        # Marcar progreso\n",
    "        progress[\"completed\"].add(progress_key)\n",
    "        save_progress(progress)\n",
    "\n",
    "if __name__ == \"__main__\":\n",
    "    main()"
   ]
  },
  {
   "cell_type": "code",
   "execution_count": null,
   "metadata": {},
   "outputs": [],
   "source": []
  }
 ],
 "metadata": {
  "kernelspec": {
   "display_name": "advprog",
   "language": "python",
   "name": "python3"
  },
  "language_info": {
   "codemirror_mode": {
    "name": "ipython",
    "version": 3
   },
   "file_extension": ".py",
   "mimetype": "text/x-python",
   "name": "python",
   "nbconvert_exporter": "python",
   "pygments_lexer": "ipython3",
   "version": "3.12.1"
  }
 },
 "nbformat": 4,
 "nbformat_minor": 2
}
